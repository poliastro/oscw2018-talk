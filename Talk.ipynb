{
 "cells": [
  {
   "cell_type": "markdown",
   "metadata": {
    "slideshow": {
     "slide_type": "slide"
    }
   },
   "source": [
    "# Testing and validation approaches for scientific software\n",
    "\n",
    "![The perils of floating point](img/floating-point.png)\n",
    "\n",
    "### Juan Luis Cano - 2018-09-25 OSCW '18 @ ESAC, Madrid"
   ]
  },
  {
   "cell_type": "markdown",
   "metadata": {
    "slideshow": {
     "slide_type": "notes"
    }
   },
   "source": [
    "## Duration\n",
    "\n",
    "12 minutes of talk + 8 minutes of Q&A\n",
    "\n",
    "## Description\n",
    "\n",
    "https://2018.oscw.space/event/1/contributions/13/\n",
    "\n",
    "Nowadays, even though software has a fundamental role in scientific research, the wide majority of scientists is primarily self-taught and received no formal training in software engineering, with often leads to quality and reproducibility problems[1]. The space industry is in a similar situation, with many incident reports describing “various aspects of complacency and a discounting or misunderstanding of the risks associated with software”[2][3].\n",
    "\n",
    "One of the most useful engineering techniques, **software testing**, is also the one that presents the biggest gap between its perceived importance and the skill level of scientists in it[4]. Testing, as well as other good practices such as version control and code reviews, not only make code more reusable but also increase the productivity of the developer[5]. However, the **special nature of scientific or algorithmic software** makes it difficult to apply commonplace testing practices, since the challenges lie in “separating software bugs from model errors and approximation error”[4].\n",
    "\n",
    "In this talk we will discuss some testing approaches (or lack thereof) present in scientific software that fall short in helping the developers find errors or increase their productivity, and propose some other strategies based on our experience with poliastro, an open source Python library for Astrodynamics[6]. These strategies make use of **automated testing frameworks**, **help covering test cases in an exhaustive way** (hypotheses), take advantage of **analytical solutions** of the problems at hand or **public data** when available, and guarantee **self consistency** (regression testing) when there is nothing to compare against. Finally, we will analyze the limitations of these approaches and discuss possible solutions.\n",
    "\n",
    "* [1]: Wilson, Greg, Dhavide A. Aruliah, C. Titus Brown, Neil P. Chue Hong, Matt Davis, Richard T. Guy, Steven HD Haddock et al. \"Best practices for scientific computing.\" PLoS biology 12, no. 1 (2014): e1001745.\n",
    "* [2]: Leveson, Nancy G. \"Role of software in spacecraft accidents.\" Journal of spacecraft and Rockets 41, no. 4 (2004): 564-575.\n",
    "* [3]: Lutz, Robyn R. \"Analyzing software requirements errors in safety-critical, embedded systems.\" In Requirements Engineering, 1993., Proceedings of IEEE International Symposium on, pp. 126-133. IEEE, 1993.\n",
    "* [4]: Hannay, Jo Erskine, Carolyn MacLeod, Janice Singer, Hans Petter Langtangen, Dietmar Pfahl, and Greg Wilson. \"How do scientists develop and use scientific software?.\" In Software Engineering for Computational Science and Engineering, 2009. SECSE'09. ICSE Workshop on, pp. 1-8. Ieee, 2009.\n",
    "* [5]: Wilson, Greg, Dhavide A. Aruliah, C. Titus Brown, Neil P. Chue Hong, Matt Davis, Richard T. Guy, Steven HD Haddock et al. \"Best practices for scientific computing.\" PLoS biology 12, no. 1 (2014): e1001745.\n",
    "* [6]: Juan Luis Cano Rodríguez, Antonio Hidalgo, Shreyas Bapat, Nikita Astrakhantsev, Alberto Lorenzo Márquez, Pablo Rodríguez Robles, Ritiek Malhotra, et al. 2018. “Poliastro/poliastro: Poliastro 0.9.1 (pickle Edition)”. Zenodo. doi:10.5281/zenodo.1245650."
   ]
  },
  {
   "cell_type": "markdown",
   "metadata": {
    "slideshow": {
     "slide_type": "slide"
    }
   },
   "source": [
    "![I have a question](img/question.gif)"
   ]
  },
  {
   "cell_type": "markdown",
   "metadata": {
    "slideshow": {
     "slide_type": "notes"
    }
   },
   "source": [
    "I am more like a software person, so I would like to start with a couple of questions:\n",
    "\n",
    "* Who writes code as part of their day job?\n",
    "* And who would like to find a method to write code with no errors or mistakes whatsoever??"
   ]
  },
  {
   "cell_type": "markdown",
   "metadata": {
    "slideshow": {
     "slide_type": "subslide"
    }
   },
   "source": [
    "# Don't write any single line of code ever again."
   ]
  },
  {
   "cell_type": "markdown",
   "metadata": {
    "slideshow": {
     "slide_type": "subslide"
    }
   },
   "source": [
    "# Questions?"
   ]
  },
  {
   "cell_type": "markdown",
   "metadata": {
    "slideshow": {
     "slide_type": "skip"
    }
   },
   "source": [
    "Okay, let's elaborate a bit :)\n",
    "\n",
    "---"
   ]
  },
  {
   "cell_type": "markdown",
   "metadata": {
    "slideshow": {
     "slide_type": "slide"
    }
   },
   "source": [
    "# Overview\n",
    "\n",
    "1. Introduction and motivation\n",
    "2. The concept of testing and typical mistakes\n",
    "3. What to validate against?\n",
    "4. Python testing frameworks\n",
    "6. Conclusions\n",
    "\n",
    "And, by the way, **this talk is online**! https://github.com/poliastro/oscw2018-talk (go, start it ⭐)"
   ]
  },
  {
   "cell_type": "markdown",
   "metadata": {
    "slideshow": {
     "slide_type": "subslide"
    }
   },
   "source": [
    "## A not so long time ago...\n",
    "\n",
    "https://www.wired.com/2010/11/1110mars-climate-observer-report/\n",
    "\n",
    "![Mars Climate Orbiter](img/mco.png)"
   ]
  },
  {
   "cell_type": "markdown",
   "metadata": {
    "slideshow": {
     "slide_type": "subslide"
    }
   },
   "source": [
    "## Only a few years ago...\n",
    "\n",
    "http://www.esa.int/Our_Activities/Space_Science/ExoMars/Schiaparelli_landing_investigation_completed\n",
    "\n",
    "![Schiaparelli](img/schiaparelli.jpg)"
   ]
  },
  {
   "cell_type": "markdown",
   "metadata": {
    "slideshow": {
     "slide_type": "subslide"
    }
   },
   "source": [
    "> Recommendation 05 – Robust and reliable sanity checks shall be implemented in the on-board S/W to\n",
    "increase the robustness of the design, which could be, but not limited to :\n",
    "> - Check on attitude\n",
    "> - Check on altitude sign **(altitude cannot be negative)**.\n",
    "> - Check on vertical acceleration during terminal descent and landing **(cannot be higher than gravity)**.\n",
    "> - Check altitude magnitude change **(it cannot change from 3.7 Km to a negative value in one second)**\n",
    "\n",
    "(emphasis mine)"
   ]
  },
  {
   "cell_type": "markdown",
   "metadata": {
    "slideshow": {
     "slide_type": "slide"
    }
   },
   "source": [
    "# Testing\n",
    "\n",
    "> Software testing is an investigation conducted to provide stakeholders with information about the quality of the software product or service under test.\n",
    ">\n",
    "> —https://en.wikipedia.org/wiki/Software_testing"
   ]
  },
  {
   "cell_type": "markdown",
   "metadata": {
    "slideshow": {
     "slide_type": "fragment"
    }
   },
   "source": [
    "![Eyeroll](img/pedantic.gif)"
   ]
  },
  {
   "cell_type": "markdown",
   "metadata": {
    "slideshow": {
     "slide_type": "subslide"
    }
   },
   "source": [
    "## Assumption #0: You have _some_ tests\n",
    "\n",
    "Examples:\n",
    "\n",
    "* End-to-end (E2E) simulation that compares the result of today and yesterday\n",
    "* A checklist that must be followed before important milestones\n",
    "* An Excel spreadsheet where a person marks whether some functionality is present or not"
   ]
  },
  {
   "cell_type": "markdown",
   "metadata": {
    "slideshow": {
     "slide_type": "fragment"
    }
   },
   "source": [
    "![Sweat](img/sweat.gif)"
   ]
  },
  {
   "cell_type": "markdown",
   "metadata": {
    "slideshow": {
     "slide_type": "subslide"
    }
   },
   "source": [
    "## Typical mistake #1: Not having _automated_ tests\n",
    "\n",
    "<blockquote class=\"twitter-tweet\" data-lang=\"en\"><p lang=\"en\" dir=\"ltr\">If you use software that lacks automated tests, you are the tests.</p>&mdash; Jenny Bryan (@JennyBryan) <a href=\"https://twitter.com/JennyBryan/status/1043307291909316609?ref_src=twsrc%5Etfw\">September 22, 2018</a></blockquote>\n",
    "<script async src=\"https://platform.twitter.com/widgets.js\" charset=\"utf-8\"></script>\n",
    "\n",
    "* People fail while running the tests\n",
    "\n",
    "* Confronting a coworker work can be tough\n",
    "\n",
    "* People tend to oversee certain issues on Friday afternoons"
   ]
  },
  {
   "cell_type": "markdown",
   "metadata": {
    "slideshow": {
     "slide_type": "subslide"
    }
   },
   "source": [
    "## Typical mistake #2: Not having _unit_ tests\n",
    "\n",
    "* Software is made up of small pieces (right???) so we should test them individually (i.e. and E2E simulation is not a enough)\n",
    "* If a small piece of software is not testable, it's almost certainly a sign of bad design\n",
    "* Code that has side effects (writes to disk, trigger the fire alarm) is inherently difficult to test, so they should be isolated as much as possible\n",
    "* Keyword: **refactoring**, learn it!"
   ]
  },
  {
   "cell_type": "markdown",
   "metadata": {
    "slideshow": {
     "slide_type": "skip"
    }
   },
   "source": [
    "Some resources:\n",
    "\n",
    "* http://www.diveintopython3.net/refactoring.html\n",
    "* https://katyhuff.github.io/python-testing/\n",
    "* https://www.obeythetestinggoat.com/pages/book.html\n",
    "\n",
    "Many learning resources about refactoring and testing are geared towards software engineers or web developers... Sorry about that!"
   ]
  },
  {
   "cell_type": "markdown",
   "metadata": {
    "slideshow": {
     "slide_type": "subslide"
    }
   },
   "source": [
    "## Typical mistake #3: Shooting yourself in the foot\n",
    "\n",
    "i.e. writing a passing test that is, in fact, hiding a problem.\n",
    "\n",
    "> Example task: \"Write the sinc function\"\n",
    "\n",
    "$$ \\operatorname{sinc}(x) = \\frac{\\sin{x}}{x} $$"
   ]
  },
  {
   "cell_type": "code",
   "execution_count": 1,
   "metadata": {
    "slideshow": {
     "slide_type": "fragment"
    }
   },
   "outputs": [],
   "source": [
    "import numpy as np\n",
    "\n",
    "def sinc(x):\n",
    "    return np.sin(x) / x"
   ]
  },
  {
   "cell_type": "code",
   "execution_count": 2,
   "metadata": {
    "slideshow": {
     "slide_type": "fragment"
    }
   },
   "outputs": [],
   "source": [
    "import pytest\n",
    "\n",
    "def test_sinc():\n",
    "    assert sinc(1.0) == np.sin(1.0) / 1.0"
   ]
  },
  {
   "cell_type": "code",
   "execution_count": 3,
   "metadata": {
    "slideshow": {
     "slide_type": "skip"
    }
   },
   "outputs": [
    {
     "name": "stdout",
     "output_type": "stream",
     "text": [
      "Writing test_sinc1.py\n"
     ]
    }
   ],
   "source": [
    "%%writefile test_sinc1.py\n",
    "import numpy as np\n",
    "import pytest\n",
    "\n",
    "def sinc(x):\n",
    "    return np.sin(x) / x\n",
    "\n",
    "def test_sinc():\n",
    "    assert sinc(1.0) == np.sin(1.0) / 1.0"
   ]
  },
  {
   "cell_type": "code",
   "execution_count": 4,
   "metadata": {
    "slideshow": {
     "slide_type": "fragment"
    }
   },
   "outputs": [
    {
     "name": "stdout",
     "output_type": "stream",
     "text": [
      "\u001b[1m============================= test session starts ==============================\u001b[0m\n",
      "platform linux -- Python 3.7.0, pytest-3.8.0, py-1.5.4, pluggy-0.7.1\n",
      "hypothesis profile 'default' -> database=DirectoryBasedExampleDatabase('/home/juanlu/Development/poliastro/talks/oscw2018/.hypothesis/examples')\n",
      "rootdir: /home/juanlu/Development/poliastro/talks/oscw2018, inifile:\n",
      "plugins: cov-2.5.1, hypothesis-3.73.0\n",
      "collected 1 item                                                               \u001b[0m\u001b[1m\n",
      "\n",
      "test_sinc1.py .\u001b[36m                                                          [100%]\u001b[0m\n",
      "\n",
      "\u001b[32m\u001b[1m=========================== 1 passed in 0.09 seconds ===========================\u001b[0m\n"
     ]
    }
   ],
   "source": [
    "# https://jakevdp.github.io/blog/2017/12/05/installing-python-packages-from-jupyter/\n",
    "import sys\n",
    "!{sys.executable} -m pytest test_sinc1.py"
   ]
  },
  {
   "cell_type": "markdown",
   "metadata": {
    "slideshow": {
     "slide_type": "subslide"
    }
   },
   "source": [
    "Potential mistakes:\n",
    "\n",
    "* Copy-paste: it's very tempting to copy the function to the test, isn't it? Looks like a great way to **copy-paste typos and mistakes as well**!\n",
    "* Corner cases (see next point)\n",
    "* Bogus floating point comparisons!"
   ]
  },
  {
   "cell_type": "code",
   "execution_count": 5,
   "metadata": {
    "slideshow": {
     "slide_type": "subslide"
    }
   },
   "outputs": [
    {
     "data": {
      "text/plain": [
       "False"
      ]
     },
     "execution_count": 5,
     "metadata": {},
     "output_type": "execute_result"
    }
   ],
   "source": [
    "0.1 + 0.2 == 0.3"
   ]
  },
  {
   "cell_type": "code",
   "execution_count": 6,
   "metadata": {
    "slideshow": {
     "slide_type": "fragment"
    }
   },
   "outputs": [
    {
     "data": {
      "text/plain": [
       "True"
      ]
     },
     "execution_count": 6,
     "metadata": {},
     "output_type": "execute_result"
    }
   ],
   "source": [
    "0.2 + 0.3 == 0.5"
   ]
  },
  {
   "cell_type": "markdown",
   "metadata": {
    "slideshow": {
     "slide_type": "fragment"
    }
   },
   "source": [
    "![Fail](img/fail.gif)"
   ]
  },
  {
   "cell_type": "markdown",
   "metadata": {
    "slideshow": {
     "slide_type": "subslide"
    }
   },
   "source": [
    "## Typical mistake #4: Not covering corner cases"
   ]
  },
  {
   "cell_type": "code",
   "execution_count": 7,
   "metadata": {
    "slideshow": {
     "slide_type": "subslide"
    }
   },
   "outputs": [],
   "source": [
    "import pytest\n",
    "\n",
    "# https://docs.pytest.org/en/stable/parametrize.html\n",
    "@pytest.mark.parametrize(\"x\", [-2, 1, 1, 2])\n",
    "def test_sinc(x):\n",
    "    assert sinc(x) == np.sin(x) / x"
   ]
  },
  {
   "cell_type": "code",
   "execution_count": 8,
   "metadata": {
    "slideshow": {
     "slide_type": "skip"
    }
   },
   "outputs": [
    {
     "name": "stdout",
     "output_type": "stream",
     "text": [
      "Writing test_sinc2.py\n"
     ]
    }
   ],
   "source": [
    "%%writefile test_sinc2.py\n",
    "import numpy as np\n",
    "import pytest\n",
    "\n",
    "def sinc(x):\n",
    "    return np.sin(x) / x\n",
    "\n",
    "@pytest.mark.parametrize(\"x\", [-2, 1, 1, 2])\n",
    "def test_sinc(x):\n",
    "    assert sinc(x) == np.sin(x) / x"
   ]
  },
  {
   "cell_type": "code",
   "execution_count": 9,
   "metadata": {
    "slideshow": {
     "slide_type": "fragment"
    }
   },
   "outputs": [
    {
     "name": "stdout",
     "output_type": "stream",
     "text": [
      "\u001b[1m============================= test session starts ==============================\u001b[0m\n",
      "platform linux -- Python 3.7.0, pytest-3.8.0, py-1.5.4, pluggy-0.7.1\n",
      "hypothesis profile 'default' -> database=DirectoryBasedExampleDatabase('/home/juanlu/Development/poliastro/talks/oscw2018/.hypothesis/examples')\n",
      "rootdir: /home/juanlu/Development/poliastro/talks/oscw2018, inifile:\n",
      "plugins: cov-2.5.1, hypothesis-3.73.0\n",
      "collected 4 items                                                              \u001b[0m\u001b[1m\n",
      "\n",
      "test_sinc2.py ....\u001b[36m                                                       [100%]\u001b[0m\n",
      "\n",
      "\u001b[32m\u001b[1m=========================== 4 passed in 0.09 seconds ===========================\u001b[0m\n"
     ]
    }
   ],
   "source": [
    "!{sys.executable} -m pytest test_sinc2.py"
   ]
  },
  {
   "cell_type": "code",
   "execution_count": 10,
   "metadata": {
    "slideshow": {
     "slide_type": "subslide"
    }
   },
   "outputs": [
    {
     "name": "stderr",
     "output_type": "stream",
     "text": [
      "/home/juanlu/.miniconda36/envs/poliastro37/lib/python3.7/site-packages/ipykernel_launcher.py:4: RuntimeWarning: invalid value encountered in double_scalars\n",
      "  after removing the cwd from sys.path.\n",
      "/home/juanlu/.miniconda36/envs/poliastro37/lib/python3.7/site-packages/ipykernel_launcher.py:1: RuntimeWarning: invalid value encountered in double_scalars\n",
      "  \"\"\"Entry point for launching an IPython kernel.\n"
     ]
    },
    {
     "data": {
      "text/plain": [
       "False"
      ]
     },
     "execution_count": 10,
     "metadata": {},
     "output_type": "execute_result"
    }
   ],
   "source": [
    "sinc(0) == np.sin(0) / 0"
   ]
  },
  {
   "cell_type": "markdown",
   "metadata": {
    "slideshow": {
     "slide_type": "fragment"
    }
   },
   "source": [
    "![WAT](img/wat.gif)"
   ]
  },
  {
   "cell_type": "code",
   "execution_count": 11,
   "metadata": {
    "slideshow": {
     "slide_type": "subslide"
    }
   },
   "outputs": [],
   "source": [
    "from hypothesis import given\n",
    "import hypothesis.strategies as st\n",
    "\n",
    "@given(st.floats())\n",
    "def test_sinc(x):\n",
    "    assert sinc(x) == np.sin(x) / x"
   ]
  },
  {
   "cell_type": "code",
   "execution_count": 12,
   "metadata": {
    "slideshow": {
     "slide_type": "skip"
    }
   },
   "outputs": [
    {
     "name": "stdout",
     "output_type": "stream",
     "text": [
      "Writing test_sinc3.py\n"
     ]
    }
   ],
   "source": [
    "%%writefile test_sinc3.py\n",
    "import numpy as np\n",
    "from hypothesis import given\n",
    "import hypothesis.strategies as st\n",
    "\n",
    "def sinc(x):\n",
    "    return np.sin(x) / x\n",
    "\n",
    "@given(st.floats())\n",
    "def test_sinc(x):\n",
    "    assert sinc(x) == np.sin(x) / x"
   ]
  },
  {
   "cell_type": "code",
   "execution_count": 13,
   "metadata": {
    "slideshow": {
     "slide_type": "skip"
    }
   },
   "outputs": [
    {
     "name": "stdout",
     "output_type": "stream",
     "text": [
      "\u001b[1m============================= test session starts ==============================\u001b[0m\n",
      "platform linux -- Python 3.7.0, pytest-3.8.0, py-1.5.4, pluggy-0.7.1\n",
      "hypothesis profile 'default' -> database=DirectoryBasedExampleDatabase('/home/juanlu/Development/poliastro/talks/oscw2018/.hypothesis/examples')\n",
      "rootdir: /home/juanlu/Development/poliastro/talks/oscw2018, inifile:\n",
      "plugins: cov-2.5.1, hypothesis-3.73.0\n",
      "collected 1 item                                                               \u001b[0m\u001b[1m\n",
      "\n",
      "test_sinc3.py F\u001b[36m                                                          [100%]\u001b[0m\n",
      "\n",
      "=================================== FAILURES ===================================\n",
      "\u001b[31m\u001b[1m__________________________________ test_sinc ___________________________________\u001b[0m\n",
      "\n",
      "\u001b[1m    @given(st.floats())\u001b[0m\n",
      "\u001b[1m>   def test_sinc(x):\u001b[0m\n",
      "\n",
      "\u001b[1m\u001b[31mtest_sinc3.py\u001b[0m:9: \n",
      "_ _ _ _ _ _ _ _ _ _ _ _ _ _ _ _ _ _ _ _ _ _ _ _ _ _ _ _ _ _ _ _ _ _ _ _ _ _ _ _ \n",
      "\u001b[1m\u001b[31m../../../../.miniconda36/envs/poliastro37/lib/python3.7/site-packages/hypothesis/core.py\u001b[0m:519: in execute\n",
      "\u001b[1m    result = self.test_runner(data, run)\u001b[0m\n",
      "\u001b[1m\u001b[31m../../../../.miniconda36/envs/poliastro37/lib/python3.7/site-packages/hypothesis/executors.py\u001b[0m:58: in default_new_style_executor\n",
      "\u001b[1m    return function(data)\u001b[0m\n",
      "\u001b[1m\u001b[31m../../../../.miniconda36/envs/poliastro37/lib/python3.7/site-packages/hypothesis/core.py\u001b[0m:517: in run\n",
      "\u001b[1m    return test(*args, **kwargs)\u001b[0m\n",
      "\u001b[1m\u001b[31mtest_sinc3.py\u001b[0m:9: in test_sinc\n",
      "\u001b[1m    def test_sinc(x):\u001b[0m\n",
      "\u001b[1m\u001b[31m../../../../.miniconda36/envs/poliastro37/lib/python3.7/site-packages/hypothesis/core.py\u001b[0m:464: in test\n",
      "\u001b[1m    result = self.test(*args, **kwargs)\u001b[0m\n",
      "_ _ _ _ _ _ _ _ _ _ _ _ _ _ _ _ _ _ _ _ _ _ _ _ _ _ _ _ _ _ _ _ _ _ _ _ _ _ _ _ \n",
      "\n",
      "x = 0.0\n",
      "\n",
      "\u001b[1m    @given(st.floats())\u001b[0m\n",
      "\u001b[1m    def test_sinc(x):\u001b[0m\n",
      "\u001b[1m>       assert sinc(x) == np.sin(x) / x\u001b[0m\n",
      "\u001b[1m\u001b[31mE       AssertionError: assert nan == (0.0 / 0.0)\u001b[0m\n",
      "\u001b[1m\u001b[31mE        +  where nan = sinc(0.0)\u001b[0m\n",
      "\u001b[1m\u001b[31mE        +  and   0.0 = <ufunc 'sin'>(0.0)\u001b[0m\n",
      "\u001b[1m\u001b[31mE        +    where <ufunc 'sin'> = np.sin\u001b[0m\n",
      "\n",
      "\u001b[1m\u001b[31mtest_sinc3.py\u001b[0m:10: AssertionError\n",
      "---------------------------------- Hypothesis ----------------------------------\n",
      "Falsifying example: test_sinc(x=0.0)\n",
      "\u001b[33m=============================== warnings summary ===============================\u001b[0m\n",
      "/home/juanlu/Development/poliastro/talks/oscw2018/test_sinc3.py:6: RuntimeWarning: invalid value encountered in double_scalars\n",
      "  return np.sin(x) / x\n",
      "/home/juanlu/Development/poliastro/talks/oscw2018/test_sinc3.py:10: RuntimeWarning: invalid value encountered in double_scalars\n",
      "  assert sinc(x) == np.sin(x) / x\n",
      "/home/juanlu/Development/poliastro/talks/oscw2018/test_sinc3.py:6: RuntimeWarning: invalid value encountered in sin\n",
      "  return np.sin(x) / x\n",
      "/home/juanlu/Development/poliastro/talks/oscw2018/test_sinc3.py:10: RuntimeWarning: invalid value encountered in sin\n",
      "  assert sinc(x) == np.sin(x) / x\n",
      "\n",
      "-- Docs: https://docs.pytest.org/en/latest/warnings.html\n",
      "\u001b[31m\u001b[1m===================== 1 failed, 4 warnings in 0.22 seconds =====================\u001b[0m\n"
     ]
    }
   ],
   "source": [
    "!{sys.executable} -m pytest test_sinc3.py"
   ]
  },
  {
   "cell_type": "code",
   "execution_count": 14,
   "metadata": {
    "slideshow": {
     "slide_type": "subslide"
    }
   },
   "outputs": [],
   "source": [
    "def sinc(x):\n",
    "    return np.sin(x) / x if x != 0.0 else 1.0"
   ]
  },
  {
   "cell_type": "code",
   "execution_count": 15,
   "metadata": {
    "slideshow": {
     "slide_type": "fragment"
    }
   },
   "outputs": [],
   "source": [
    "@given(st.floats())\n",
    "def test_sinc(x):\n",
    "    assert sinc(x) == np.sin(x) / x  # And now what?"
   ]
  },
  {
   "cell_type": "markdown",
   "metadata": {
    "slideshow": {
     "slide_type": "fragment"
    }
   },
   "source": [
    "We need validation data!"
   ]
  },
  {
   "cell_type": "markdown",
   "metadata": {
    "slideshow": {
     "slide_type": "slide"
    }
   },
   "source": [
    "# What to validate against?\n",
    "\n",
    "A better way:\n",
    "\n",
    "* Compare against some authoritative source: **external data or software**\n",
    "* Do floating point comparisons right and **use tolerances**"
   ]
  },
  {
   "cell_type": "code",
   "execution_count": 16,
   "metadata": {
    "slideshow": {
     "slide_type": "fragment"
    }
   },
   "outputs": [],
   "source": [
    "def test_convert_from_rv_to_coe():\n",
    "    # Data from Vallado, example 2.6\n",
    "    attractor = Earth\n",
    "    p = 11067.790 * u.km\n",
    "    ecc = 0.83285 * u.one\n",
    "    inc = 87.87 * u.deg\n",
    "    raan = 227.89 * u.deg\n",
    "    argp = 53.38 * u.deg\n",
    "    nu = 92.335 * u.deg\n",
    "    expected_r = [6525.344, 6861.535, 6449.125] * u.km\n",
    "    expected_v = [4.902276, 5.533124, -1.975709] * u.km / u.s\n",
    "\n",
    "    r, v = ClassicalState(attractor, p, ecc, inc, raan, argp, nu).rv()\n",
    "\n",
    "    assert_quantity_allclose(r, expected_r, rtol=1e-5)\n",
    "    assert_quantity_allclose(v, expected_v, rtol=1e-5)"
   ]
  },
  {
   "cell_type": "markdown",
   "metadata": {
    "slideshow": {
     "slide_type": "subslide"
    }
   },
   "source": [
    "What's the perfect way?\n",
    "\n",
    "* How much precision do you ask for? Should you carry a mathematical analysis?\n",
    "* What if your results don't match? Sometimes, book or paper authors respond to your comments... And sometimes don't\n",
    "* The changes in precision are a result of bad data, or worse algorithms?\n",
    "* How do you even track _improvements_?"
   ]
  },
  {
   "cell_type": "markdown",
   "metadata": {
    "slideshow": {
     "slide_type": "subslide"
    }
   },
   "source": [
    "### External data (short summary)"
   ]
  },
  {
   "cell_type": "markdown",
   "metadata": {
    "slideshow": {
     "slide_type": "fragment"
    }
   },
   "source": [
    "* Nobody cares"
   ]
  },
  {
   "cell_type": "markdown",
   "metadata": {
    "slideshow": {
     "slide_type": "fragment"
    }
   },
   "source": [
    "* Those who care, don't share it"
   ]
  },
  {
   "cell_type": "markdown",
   "metadata": {
    "slideshow": {
     "slide_type": "fragment"
    }
   },
   "source": [
    "* Those who share, do it with 1 decimal place (true story)"
   ]
  },
  {
   "cell_type": "markdown",
   "metadata": {
    "slideshow": {
     "slide_type": "fragment"
    }
   },
   "source": [
    "* Those who share with 16 decimal places, don't describe how it was obtained (i.e. release the source)"
   ]
  },
  {
   "cell_type": "markdown",
   "metadata": {
    "slideshow": {
     "slide_type": "fragment"
    }
   },
   "source": [
    "* Those who release the source, make it impossible to compile"
   ]
  },
  {
   "cell_type": "markdown",
   "metadata": {
    "slideshow": {
     "slide_type": "subslide"
    }
   },
   "source": [
    "### External software\n",
    "\n",
    "* Sometimes commercial\n",
    "* It is often difficult to reproduce the exact setting and algorithms, most of the times because your commercial software is much more complex"
   ]
  },
  {
   "cell_type": "markdown",
   "metadata": {
    "slideshow": {
     "slide_type": "subslide"
    }
   },
   "source": [
    "### ...but is it validated itself?\n",
    "\n",
    "https://www.ams.org/notices/201410/rnoti-p1249.pdf\n",
    "\n",
    "![Trust](img/trust.png)"
   ]
  },
  {
   "cell_type": "markdown",
   "metadata": {
    "slideshow": {
     "slide_type": "subslide"
    }
   },
   "source": [
    "![Shrug](img/shrugging-guy.jpg)"
   ]
  },
  {
   "cell_type": "markdown",
   "metadata": {
    "slideshow": {
     "slide_type": "slide"
    }
   },
   "source": [
    "# Conclusions\n",
    "\n",
    "* Writing good, comprehensive tests is not trivial\n",
    "* But we need to!\n",
    "* There are tools at hand that help\n",
    "* Automate **everything**\n",
    "* Validate what you use, it might bite you"
   ]
  },
  {
   "cell_type": "markdown",
   "metadata": {
    "slideshow": {
     "slide_type": "slide"
    }
   },
   "source": [
    "# _Per Python ad astra!_ 🚀\n",
    "\n",
    "![poliastro](img/logo_text.svg)\n",
    "\n",
    "* Slides: https://github.com/poliastro/oscw2018-talk\n",
    "* poliastro chat: https://riot.im/app/#/room/#poliastro:matrix.org\n",
    "* Twitter: https://twitter.com/poliastro_py"
   ]
  }
 ],
 "metadata": {
  "celltoolbar": "Slideshow",
  "kernelspec": {
   "display_name": "Python 3",
   "language": "python",
   "name": "python3"
  },
  "language_info": {
   "codemirror_mode": {
    "name": "ipython",
    "version": 3
   },
   "file_extension": ".py",
   "mimetype": "text/x-python",
   "name": "python",
   "nbconvert_exporter": "python",
   "pygments_lexer": "ipython3",
   "version": "3.7.0"
  }
 },
 "nbformat": 4,
 "nbformat_minor": 2
}
