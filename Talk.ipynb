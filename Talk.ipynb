{
 "cells": [
  {
   "cell_type": "markdown",
   "metadata": {
    "slideshow": {
     "slide_type": "slide"
    }
   },
   "source": [
    "# Testing and validation approaches for scientific software\n",
    "\n",
    "![The perils of floating point](img/floating-point.png)\n",
    "\n",
    "### Juan Luis Cano - 2018-09-25 OSCW '18 @ ESAC, Madrid"
   ]
  },
  {
   "cell_type": "markdown",
   "metadata": {
    "slideshow": {
     "slide_type": "slide"
    }
   },
   "source": [
    "# Who am I?\n",
    "\n",
    "<img src=\"img/juanlu_esa.jpg\" alt=\"Me!\" width=\"400\" style=\"float:right\"></img>\n",
    "\n",
    "* **Aerospace Engineer** with a passion for orbits 🛰\n",
    "* Chair of the **Python España** non profit and co-organizer of **PyCon Spain** 🐍\n",
    "* **Software Developer** at **Satellogic** 🌍\n",
    "* Free Software advocate and Python enthusiast 🕮\n",
    "* Hard Rock lover 🎸\n",
    "\n",
    "Follow me! https://github.com/Juanlu001/\n",
    "\n",
    "<div style=\"clear:both\"></div>"
   ]
  },
  {
   "cell_type": "markdown",
   "metadata": {
    "slideshow": {
     "slide_type": "slide"
    }
   },
   "source": [
    "# Introduction to poliastro\n",
    "\n",
    "<img src=\"img/logo_text.svg\" alt=\"poliastro\" width=\"500\" style=\"float:right\"></img>\n",
    "\n",
    "> poliastro is Python library for Astrodynamics and Orbital Mechanics, focused on interactive and friendly use and with an eye on performance.\n",
    "\n",
    "* **Pure Python**, accelerated with **numba**\n",
    "* **MIT license** (permissive)\n",
    "* Physical units, astronomical scales and more, thanks to Astropy\n",
    "* Conversion between several orbit representations\n",
    "* Analytical and numerical propagation\n",
    "* Cool documentation 🚀 http://docs.poliastro.space/\n",
    "* Latest version 0.11 released last Friday!\n",
    "\n",
    "<div style=\"clear:both\"></div>"
   ]
  },
  {
   "cell_type": "markdown",
   "metadata": {
    "slideshow": {
     "slide_type": "subslide"
    }
   },
   "source": [
    "## Brief history\n",
    "\n",
    "* _2013_: First version: Octave + FORTRAN + Python\n",
    "* _2014_: Refactor of the API, much friendlier\n",
    "* _2015_: Replace FORTRAN algorithms by Python + numba 🚀\n",
    "* _2016_: Izzo algorithm (Lambert's problem), 6th ICATT @ ESA\n",
    "* _2017_: Summer of Code in Space (SOCIS), OpenAstronomy & Astropy membership, 1st OSCW @ ESOC\n",
    "* _2018_: Google Summer of Code (GSOC), #PyAstro18 @ Simons Fndn, expansion into the industry"
   ]
  },
  {
   "cell_type": "markdown",
   "metadata": {
    "slideshow": {
     "slide_type": "slide"
    }
   },
   "source": [
    "# Challenges\n",
    "\n",
    "## Validation\n",
    "\n",
    "> Unit testing a function with clear expectations is trivial. What are my expectations on numerical algorithms?"
   ]
  },
  {
   "cell_type": "markdown",
   "metadata": {
    "slideshow": {
     "slide_type": "fragment"
    }
   },
   "source": [
    "The wrooooooooooooooong way:"
   ]
  },
  {
   "cell_type": "code",
   "execution_count": 15,
   "metadata": {
    "slideshow": {
     "slide_type": "fragment"
    }
   },
   "outputs": [],
   "source": [
    "def sinc(x):\n",
    "    return np.sin(x) / x"
   ]
  },
  {
   "cell_type": "code",
   "execution_count": 16,
   "metadata": {
    "slideshow": {
     "slide_type": "fragment"
    }
   },
   "outputs": [],
   "source": [
    "import pytest"
   ]
  },
  {
   "cell_type": "code",
   "execution_count": 17,
   "metadata": {
    "slideshow": {
     "slide_type": "fragment"
    }
   },
   "outputs": [],
   "source": [
    "@pytest.mark.parametrize(\"x\", [0, 1, 10])\n",
    "def test_sinc(x):\n",
    "    assert sinc(x) == np.sin(x) / x"
   ]
  },
  {
   "cell_type": "code",
   "execution_count": 18,
   "metadata": {
    "slideshow": {
     "slide_type": "subslide"
    }
   },
   "outputs": [
    {
     "data": {
      "text/plain": [
       "False"
      ]
     },
     "execution_count": 18,
     "metadata": {},
     "output_type": "execute_result"
    }
   ],
   "source": [
    "0.1 + 0.2 == 0.3"
   ]
  },
  {
   "cell_type": "code",
   "execution_count": 19,
   "metadata": {
    "slideshow": {
     "slide_type": "fragment"
    }
   },
   "outputs": [
    {
     "data": {
      "text/plain": [
       "True"
      ]
     },
     "execution_count": 19,
     "metadata": {},
     "output_type": "execute_result"
    }
   ],
   "source": [
    "0.2 + 0.3 == 0.5"
   ]
  },
  {
   "cell_type": "markdown",
   "metadata": {
    "slideshow": {
     "slide_type": "subslide"
    }
   },
   "source": [
    "A better way:\n",
    "\n",
    "* Compare against some authoritative source: **external data or software**\n",
    "* Do floating point comparisons right and **use tolerances**"
   ]
  },
  {
   "cell_type": "code",
   "execution_count": 2,
   "metadata": {
    "slideshow": {
     "slide_type": "fragment"
    }
   },
   "outputs": [],
   "source": [
    "def test_convert_from_rv_to_coe():\n",
    "    # Data from Vallado, example 2.6\n",
    "    attractor = Earth\n",
    "    p = 11067.790 * u.km\n",
    "    ecc = 0.83285 * u.one\n",
    "    inc = 87.87 * u.deg\n",
    "    raan = 227.89 * u.deg\n",
    "    argp = 53.38 * u.deg\n",
    "    nu = 92.335 * u.deg\n",
    "    expected_r = [6525.344, 6861.535, 6449.125] * u.km\n",
    "    expected_v = [4.902276, 5.533124, -1.975709] * u.km / u.s\n",
    "\n",
    "    r, v = ClassicalState(attractor, p, ecc, inc, raan, argp, nu).rv()\n",
    "\n",
    "    assert_quantity_allclose(r, expected_r, rtol=1e-5)\n",
    "    assert_quantity_allclose(v, expected_v, rtol=1e-5)"
   ]
  },
  {
   "cell_type": "markdown",
   "metadata": {
    "slideshow": {
     "slide_type": "subslide"
    }
   },
   "source": [
    "What's the perfect way?\n",
    "\n",
    "* How much precision do you ask for? Should you carry a mathematical analysis?\n",
    "* What if your results don't match? Sometimes, book or paper authors respond to your comments... And sometimes don't\n",
    "* The changes in precision are a result of bad data, or worse algorithms?\n",
    "* How do you even track _improvements_?"
   ]
  },
  {
   "cell_type": "markdown",
   "metadata": {
    "slideshow": {
     "slide_type": "subslide"
    }
   },
   "source": [
    "### External data (short summary)"
   ]
  },
  {
   "cell_type": "markdown",
   "metadata": {
    "slideshow": {
     "slide_type": "fragment"
    }
   },
   "source": [
    "* Nobody cares"
   ]
  },
  {
   "cell_type": "markdown",
   "metadata": {
    "slideshow": {
     "slide_type": "fragment"
    }
   },
   "source": [
    "* Those who care, don't share it"
   ]
  },
  {
   "cell_type": "markdown",
   "metadata": {
    "slideshow": {
     "slide_type": "fragment"
    }
   },
   "source": [
    "* Those who share, do it with 1 decimal place (true story)"
   ]
  },
  {
   "cell_type": "markdown",
   "metadata": {
    "slideshow": {
     "slide_type": "fragment"
    }
   },
   "source": [
    "* Those who share with 16 decimal places, don't describe how it was obtained (i.e. release the source)"
   ]
  },
  {
   "cell_type": "markdown",
   "metadata": {
    "slideshow": {
     "slide_type": "fragment"
    }
   },
   "source": [
    "* Those who release the source, make it impossible to compile"
   ]
  },
  {
   "cell_type": "markdown",
   "metadata": {
    "slideshow": {
     "slide_type": "subslide"
    }
   },
   "source": [
    "### External software\n",
    "\n",
    "* Sometimes commercial\n",
    "* Is it validated itself? (See above)\n",
    "* It is often difficult to reproduce the exact setting and algorithms, most of the times because your commercial software is much more complex"
   ]
  },
  {
   "cell_type": "markdown",
   "metadata": {
    "slideshow": {
     "slide_type": "subslide"
    }
   },
   "source": [
    "![Shrug](img/shrugging-guy.jpg)"
   ]
  },
  {
   "cell_type": "markdown",
   "metadata": {
    "slideshow": {
     "slide_type": "subslide"
    }
   },
   "source": [
    "...If you're really interested, go read my Final Masters Project: https://github.com/juanlu001/pfc-uc3m"
   ]
  },
  {
   "cell_type": "markdown",
   "metadata": {
    "slideshow": {
     "slide_type": "subslide"
    }
   },
   "source": [
    "## Performant and \"for humans\"\n",
    "\n",
    "* _Yes, Python is slow_ (compared to compiled languages)\n",
    "* Some algorithms cannot easily be vectorized (i.e. replaced by NumPy)\n",
    "* And even if you can, vectorized code can be impossible to read\n",
    "* I don't like Cython (messy, impossible to debug, I don't know C)\n",
    "* _numba helps only with Fortran-esque code_ (forget about closures or introspection)\n",
    "\n",
    "![Too smart](img/too_smart.png)"
   ]
  },
  {
   "cell_type": "markdown",
   "metadata": {
    "slideshow": {
     "slide_type": "subslide"
    }
   },
   "source": [
    "## Is it that bad?\n",
    "\n",
    "<img src=\"img/mco.png\" alt=\"Mars Climate Orbiter\" width=\"600\" ></img>"
   ]
  },
  {
   "cell_type": "markdown",
   "metadata": {
    "slideshow": {
     "slide_type": "subslide"
    }
   },
   "source": [
    "So... let's make our code Fortran-esque!\n",
    "\n",
    "<img src=\"img/architecture.svg\" alt=\"Architecture\" width=\"500\" style=\"float:right\"></img>\n",
    "\n",
    "High level API:\n",
    "\n",
    "* Supports mixed units and time scales, figures out the rest\n",
    "* Easy to use and impossible to get wrong\n",
    "* **Slow**\n",
    "\n",
    "Dangerous™ algorithms:\n",
    "\n",
    "* **Fast** (easy to accelerate with numba or Cython)\n",
    "* Only cares about numbers, makes assumptions on units (SI, TBD)\n",
    "* **You can mess it up**\n",
    "\n",
    "<div style=\"clear:both\"></div>"
   ]
  },
  {
   "cell_type": "markdown",
   "metadata": {
    "slideshow": {
     "slide_type": "subslide"
    }
   },
   "source": [
    "### Measure everything!\n",
    "\n",
    "http://poliastro.github.io/poliastro-benchmarks\n",
    "\n",
    "![Benchmarks](img/benchmarks.png)"
   ]
  },
  {
   "cell_type": "markdown",
   "metadata": {
    "slideshow": {
     "slide_type": "slide"
    }
   },
   "source": [
    "# _Per Python ad astra!_ 🚀\n",
    "\n",
    "* Slides: https://github.com/poliastro/oscw2018-talk\n",
    "* poliastro chat: https://riot.im/app/#/room/#poliastro:matrix.org\n",
    "* Twitter: https://twitter.com/poliastro_py"
   ]
  }
 ],
 "metadata": {
  "celltoolbar": "Slideshow",
  "kernelspec": {
   "display_name": "Python 3",
   "language": "python",
   "name": "python3"
  },
  "language_info": {
   "codemirror_mode": {
    "name": "ipython",
    "version": 3
   },
   "file_extension": ".py",
   "mimetype": "text/x-python",
   "name": "python",
   "nbconvert_exporter": "python",
   "pygments_lexer": "ipython3",
   "version": "3.7.0"
  }
 },
 "nbformat": 4,
 "nbformat_minor": 2
}
